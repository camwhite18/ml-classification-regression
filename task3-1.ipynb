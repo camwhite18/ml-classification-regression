{
 "cells": [
  {
   "cell_type": "code",
   "execution_count": 2,
   "metadata": {
    "collapsed": true
   },
   "outputs": [],
   "source": [
    "import pandas as pd"
   ]
  },
  {
   "cell_type": "code",
   "execution_count": 3,
   "outputs": [
    {
     "data": {
      "text/plain": "       date   quarter  department       day  team  targeted_productivity   \n0  1/1/2015  Quarter1      sweing  Thursday   8.0                   0.80  \\\n1  1/1/2015  Quarter1  finishing   Thursday   1.0                   0.75   \n2  1/1/2015  Quarter1      sweing  Thursday  11.0                   0.80   \n3  1/1/2015  Quarter1      sweing  Thursday  12.0                   0.80   \n4  1/1/2015  Quarter1      sweing  Thursday   6.0                   0.80   \n\n     smv     wip  over_time  incentive  idle_time  idle_men   \n0  26.16  1108.0     7080.0       98.0        0.0       0.0  \\\n1   3.94     NaN      960.0        0.0        0.0       0.0   \n2  11.41   968.0     3660.0       50.0        0.0       0.0   \n3  11.41   968.0     3660.0       50.0        0.0       0.0   \n4  25.90  1170.0     1920.0       50.0        0.0       0.0   \n\n   no_of_style_change  no_of_workers  actual_productivity  \n0                 0.0           59.0             0.940725  \n1                 0.0            8.0             0.886500  \n2                 0.0           30.5             0.800570  \n3                 0.0           30.5             0.800570  \n4                 0.0           56.0             0.800382  ",
      "text/html": "<div>\n<style scoped>\n    .dataframe tbody tr th:only-of-type {\n        vertical-align: middle;\n    }\n\n    .dataframe tbody tr th {\n        vertical-align: top;\n    }\n\n    .dataframe thead th {\n        text-align: right;\n    }\n</style>\n<table border=\"1\" class=\"dataframe\">\n  <thead>\n    <tr style=\"text-align: right;\">\n      <th></th>\n      <th>date</th>\n      <th>quarter</th>\n      <th>department</th>\n      <th>day</th>\n      <th>team</th>\n      <th>targeted_productivity</th>\n      <th>smv</th>\n      <th>wip</th>\n      <th>over_time</th>\n      <th>incentive</th>\n      <th>idle_time</th>\n      <th>idle_men</th>\n      <th>no_of_style_change</th>\n      <th>no_of_workers</th>\n      <th>actual_productivity</th>\n    </tr>\n  </thead>\n  <tbody>\n    <tr>\n      <th>0</th>\n      <td>1/1/2015</td>\n      <td>Quarter1</td>\n      <td>sweing</td>\n      <td>Thursday</td>\n      <td>8.0</td>\n      <td>0.80</td>\n      <td>26.16</td>\n      <td>1108.0</td>\n      <td>7080.0</td>\n      <td>98.0</td>\n      <td>0.0</td>\n      <td>0.0</td>\n      <td>0.0</td>\n      <td>59.0</td>\n      <td>0.940725</td>\n    </tr>\n    <tr>\n      <th>1</th>\n      <td>1/1/2015</td>\n      <td>Quarter1</td>\n      <td>finishing</td>\n      <td>Thursday</td>\n      <td>1.0</td>\n      <td>0.75</td>\n      <td>3.94</td>\n      <td>NaN</td>\n      <td>960.0</td>\n      <td>0.0</td>\n      <td>0.0</td>\n      <td>0.0</td>\n      <td>0.0</td>\n      <td>8.0</td>\n      <td>0.886500</td>\n    </tr>\n    <tr>\n      <th>2</th>\n      <td>1/1/2015</td>\n      <td>Quarter1</td>\n      <td>sweing</td>\n      <td>Thursday</td>\n      <td>11.0</td>\n      <td>0.80</td>\n      <td>11.41</td>\n      <td>968.0</td>\n      <td>3660.0</td>\n      <td>50.0</td>\n      <td>0.0</td>\n      <td>0.0</td>\n      <td>0.0</td>\n      <td>30.5</td>\n      <td>0.800570</td>\n    </tr>\n    <tr>\n      <th>3</th>\n      <td>1/1/2015</td>\n      <td>Quarter1</td>\n      <td>sweing</td>\n      <td>Thursday</td>\n      <td>12.0</td>\n      <td>0.80</td>\n      <td>11.41</td>\n      <td>968.0</td>\n      <td>3660.0</td>\n      <td>50.0</td>\n      <td>0.0</td>\n      <td>0.0</td>\n      <td>0.0</td>\n      <td>30.5</td>\n      <td>0.800570</td>\n    </tr>\n    <tr>\n      <th>4</th>\n      <td>1/1/2015</td>\n      <td>Quarter1</td>\n      <td>sweing</td>\n      <td>Thursday</td>\n      <td>6.0</td>\n      <td>0.80</td>\n      <td>25.90</td>\n      <td>1170.0</td>\n      <td>1920.0</td>\n      <td>50.0</td>\n      <td>0.0</td>\n      <td>0.0</td>\n      <td>0.0</td>\n      <td>56.0</td>\n      <td>0.800382</td>\n    </tr>\n  </tbody>\n</table>\n</div>"
     },
     "execution_count": 3,
     "metadata": {},
     "output_type": "execute_result"
    }
   ],
   "source": [
    "# Read the productivity dataset into a pandas dataframe\n",
    "df = pd.read_csv('datasets/gwp_assessment.csv')\n",
    "df.head()"
   ],
   "metadata": {
    "collapsed": false
   }
  },
  {
   "cell_type": "code",
   "execution_count": 4,
   "outputs": [
    {
     "name": "stdout",
     "output_type": "stream",
     "text": [
      "<class 'pandas.core.frame.DataFrame'>\n",
      "RangeIndex: 1197 entries, 0 to 1196\n",
      "Data columns (total 15 columns):\n",
      " #   Column                 Non-Null Count  Dtype  \n",
      "---  ------                 --------------  -----  \n",
      " 0   date                   1179 non-null   object \n",
      " 1   quarter                1186 non-null   object \n",
      " 2   department             1190 non-null   object \n",
      " 3   day                    1182 non-null   object \n",
      " 4   team                   1185 non-null   float64\n",
      " 5   targeted_productivity  1180 non-null   float64\n",
      " 6   smv                    1189 non-null   float64\n",
      " 7   wip                    691 non-null    float64\n",
      " 8   over_time              1188 non-null   float64\n",
      " 9   incentive              1192 non-null   float64\n",
      " 10  idle_time              1185 non-null   float64\n",
      " 11  idle_men               1185 non-null   float64\n",
      " 12  no_of_style_change     1184 non-null   float64\n",
      " 13  no_of_workers          1187 non-null   float64\n",
      " 14  actual_productivity    1197 non-null   float64\n",
      "dtypes: float64(11), object(4)\n",
      "memory usage: 140.4+ KB\n"
     ]
    }
   ],
   "source": [
    "#\n",
    "df.info()"
   ],
   "metadata": {
    "collapsed": false
   }
  },
  {
   "cell_type": "code",
   "execution_count": 6,
   "outputs": [
    {
     "data": {
      "text/plain": "date                      18\nquarter                   11\ndepartment                 7\nday                       15\nteam                      12\ntargeted_productivity     17\nsmv                        8\nwip                      506\nover_time                  9\nincentive                  5\nidle_time                 12\nidle_men                  12\nno_of_style_change        13\nno_of_workers             10\nactual_productivity        0\ndtype: int64"
     },
     "execution_count": 6,
     "metadata": {},
     "output_type": "execute_result"
    }
   ],
   "source": [
    "# Check if any null values exist in the dataset\n",
    "df.isnull().sum()"
   ],
   "metadata": {
    "collapsed": false
   }
  },
  {
   "cell_type": "code",
   "execution_count": null,
   "outputs": [],
   "source": [],
   "metadata": {
    "collapsed": false
   }
  }
 ],
 "metadata": {
  "kernelspec": {
   "display_name": "Python 3",
   "language": "python",
   "name": "python3"
  },
  "language_info": {
   "codemirror_mode": {
    "name": "ipython",
    "version": 2
   },
   "file_extension": ".py",
   "mimetype": "text/x-python",
   "name": "python",
   "nbconvert_exporter": "python",
   "pygments_lexer": "ipython2",
   "version": "2.7.6"
  }
 },
 "nbformat": 4,
 "nbformat_minor": 0
}
