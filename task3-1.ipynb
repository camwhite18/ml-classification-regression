{
 "cells": [
  {
   "cell_type": "code",
   "execution_count": 47,
   "metadata": {
    "collapsed": true
   },
   "outputs": [],
   "source": [
    "import numpy as np\n",
    "\n",
    "from sklearn.impute import KNNImputer\n",
    "from sklearn.preprocessing import LabelEncoder\n",
    "from sklearn.feature_selection import SelectKBest, VarianceThreshold"
   ]
  },
  {
   "cell_type": "code",
   "execution_count": 6,
   "outputs": [],
   "source": [
    "# Create a function for performing feature selection using the filter method with sklearn"
   ],
   "metadata": {
    "collapsed": false
   }
  },
  {
   "cell_type": "markdown",
   "source": [
    "### Star Dataset Pre-processing"
   ],
   "metadata": {
    "collapsed": false
   }
  },
  {
   "cell_type": "code",
   "execution_count": 32,
   "outputs": [],
   "source": [
    "star_file_name = 'datasets/star_assessment.csv'\n",
    "star_features = np.genfromtxt(star_file_name, delimiter=',', skip_header=True, encoding=\"utf-8\", usecols=range(0, 17))\n",
    "star_labels = np.genfromtxt(star_file_name, delimiter=',', skip_header=True, encoding=\"utf-8\", usecols=17, dtype=None)"
   ],
   "metadata": {
    "collapsed": false
   }
  },
  {
   "cell_type": "code",
   "execution_count": 33,
   "outputs": [
    {
     "name": "stdout",
     "output_type": "stream",
     "text": [
      "Number of samples: 100000\n",
      "Number of features: 16\n",
      "Number of classes: 3\n",
      "Class names: ['GALAXY' 'QSO' 'STAR']\n"
     ]
    }
   ],
   "source": [
    "# Explore the star dataset\n",
    "print(f'Number of samples: {star_features.shape[0]}')\n",
    "print(f'Number of features: {star_features.shape[1]-1}')\n",
    "print(f'Number of classes: {np.unique(star_labels).shape[0]}')\n",
    "print(f'Class names: {np.unique(star_labels)}')"
   ],
   "metadata": {
    "collapsed": false
   }
  },
  {
   "cell_type": "code",
   "execution_count": 34,
   "outputs": [
    {
     "name": "stdout",
     "output_type": "stream",
     "text": [
      "Column 1: 60 missing values\n",
      "Column 2: 55 missing values\n",
      "Column 3: 65 missing values\n",
      "Column 4: 70 missing values\n",
      "Column 5: 63 missing values\n",
      "Column 6: 50 missing values\n",
      "Column 7: 59 missing values\n",
      "Column 8: 61 missing values\n",
      "Column 9: 59 missing values\n",
      "Column 10: 51 missing values\n",
      "Column 11: 68 missing values\n",
      "Column 12: 59 missing values\n",
      "Column 13: 58 missing values\n",
      "Column 14: 49 missing values\n",
      "Column 15: 50 missing values\n",
      "Column 16: 61 missing values\n",
      "Column 17: 62 missing values\n",
      "Total: 1000 missing values\n"
     ]
    }
   ],
   "source": [
    "# Count the number of missing values in each column\n",
    "missing_vals = np.sum(np.isnan(star_features), axis=0)\n",
    "for k, v in enumerate(missing_vals):\n",
    "    print(f'Column {k+1}: {v} missing values')\n",
    "print(f'Total: {sum(missing_vals)} missing values')"
   ],
   "metadata": {
    "collapsed": false
   }
  },
  {
   "cell_type": "code",
   "execution_count": 36,
   "outputs": [],
   "source": [
    "# Use a KNN imputer to fill in the missing values\n",
    "knn_imputer = KNNImputer()\n",
    "star_features_imputed = knn_imputer.fit_transform(star_features)"
   ],
   "metadata": {
    "collapsed": false
   }
  },
  {
   "cell_type": "code",
   "execution_count": 40,
   "outputs": [],
   "source": [
    "# Encode the class labels\n",
    "label_encoder = LabelEncoder()\n",
    "star_labels_encoded = label_encoder.fit_transform(star_labels)"
   ],
   "metadata": {
    "collapsed": false
   }
  },
  {
   "cell_type": "code",
   "execution_count": 48,
   "outputs": [],
   "source": [
    "# First use a variance threshold to remove any features with zero variance\n",
    "threshold = 0\n",
    "variance_threshold = VarianceThreshold(threshold=threshold)\n",
    "star_features_imputed = variance_threshold.fit_transform(star_features_imputed)"
   ],
   "metadata": {
    "collapsed": false
   }
  },
  {
   "cell_type": "code",
   "execution_count": 53,
   "outputs": [],
   "source": [
    "select_k_best = SelectKBest(k=5)\n",
    "star_features_selected = select_k_best.fit_transform(star_features_imputed, star_labels_encoded)"
   ],
   "metadata": {
    "collapsed": false
   }
  },
  {
   "cell_type": "code",
   "execution_count": 54,
   "outputs": [
    {
     "data": {
      "text/plain": "array([[1.23766096e+18, 1.35689107e+02, 3.24946318e+01, ...,\n        5.81200000e+03, 5.63540000e+04, 1.71000000e+02],\n       [1.23766488e+18, 1.44826101e+02, 3.12741849e+01, ...,\n        1.04450000e+04, 5.81580000e+04, 4.27000000e+02],\n       [1.23766096e+18, 1.42188790e+02, 3.55824442e+01, ...,\n        4.57600000e+03, 5.55920000e+04, 2.99000000e+02],\n       ...,\n       [1.23766830e+18, 2.24587407e+02, 1.57007074e+01, ...,\n        2.76400000e+03, 5.45350000e+04, 7.40000000e+01],\n       [1.23766115e+18, 2.12268621e+02, 4.66603653e+01, ...,\n        6.75100000e+03, 5.63680000e+04, 4.70000000e+02],\n       [1.23766115e+18, 1.96896053e+02, 4.94646428e+01, ...,\n        7.41000000e+03, 5.71040000e+04, 8.51000000e+02]])"
     },
     "execution_count": 54,
     "metadata": {},
     "output_type": "execute_result"
    }
   ],
   "source": [
    "star_features"
   ],
   "metadata": {
    "collapsed": false
   }
  },
  {
   "cell_type": "code",
   "execution_count": 55,
   "outputs": [
    {
     "data": {
      "text/plain": "array([[2.03950100e+01, 1.91657300e+01, 6.54377737e+18, 6.34793600e-01,\n        5.81200000e+03],\n       [2.25844400e+01, 2.11681200e+01, 1.17601420e+19, 7.79136000e-01,\n        1.04450000e+04],\n       [2.06097600e+01, 1.93485700e+01, 5.15220026e+18, 6.44194500e-01,\n        4.57600000e+03],\n       ...,\n       [1.82042800e+01, 1.76903400e+01, 3.11200776e+18, 1.43365600e-01,\n        2.76400000e+03],\n       [1.99138600e+01, 1.90725400e+01, 7.60107957e+18, 4.55039600e-01,\n        6.75100000e+03],\n       [2.06011500e+01, 2.00095900e+01, 8.34315235e+18, 5.42944200e-01,\n        7.41000000e+03]])"
     },
     "execution_count": 55,
     "metadata": {},
     "output_type": "execute_result"
    }
   ],
   "source": [
    "star_features_selected"
   ],
   "metadata": {
    "collapsed": false
   }
  },
  {
   "cell_type": "markdown",
   "source": [
    "### GWP Dataset Pre-processing"
   ],
   "metadata": {
    "collapsed": false
   }
  },
  {
   "cell_type": "code",
   "execution_count": 87,
   "outputs": [],
   "source": [
    "gwp_array = read_dataset('datasets/gwp_assessment.csv')"
   ],
   "metadata": {
    "collapsed": false
   }
  },
  {
   "cell_type": "code",
   "execution_count": 89,
   "outputs": [
    {
     "name": "stdout",
     "output_type": "stream",
     "text": [
      "Number of samples: 1197\n",
      "Number of features: 14\n"
     ]
    }
   ],
   "source": [
    "# Explore the gwp dataset\n",
    "print(f'Number of samples: {gwp_array.shape[0]}')\n",
    "print(f'Number of features: {gwp_array.shape[1]-1}')"
   ],
   "metadata": {
    "collapsed": false
   }
  },
  {
   "cell_type": "code",
   "execution_count": null,
   "outputs": [],
   "source": [
    "# Convert"
   ],
   "metadata": {
    "collapsed": false
   }
  }
 ],
 "metadata": {
  "kernelspec": {
   "display_name": "Python 3",
   "language": "python",
   "name": "python3"
  },
  "language_info": {
   "codemirror_mode": {
    "name": "ipython",
    "version": 2
   },
   "file_extension": ".py",
   "mimetype": "text/x-python",
   "name": "python",
   "nbconvert_exporter": "python",
   "pygments_lexer": "ipython2",
   "version": "2.7.6"
  }
 },
 "nbformat": 4,
 "nbformat_minor": 0
}
